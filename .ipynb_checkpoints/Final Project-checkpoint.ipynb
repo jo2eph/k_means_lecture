{
 "cells": [
  {
   "cell_type": "markdown",
   "metadata": {
    "collapsed": false,
    "jupyter": {
     "outputs_hidden": false
    }
   },
   "source": [
    "# **FINAL PROJECT - K-Means Clustering**\n",
    "\n",
    "## Joseph Lee\n",
    "\n",
    "### Math 157\n"
   ]
  },
  {
   "cell_type": "markdown",
   "metadata": {
    "collapsed": false,
    "jupyter": {
     "outputs_hidden": false
    }
   },
   "source": [
    "# Contents\n",
    "\n",
    "- Introduction to Clustering\n",
    "- K-Means Clustering\n",
    "- K-Means Clustering in Julia\n",
    "- Participation Check 1\n",
    "- Measuring the Success of K-Means Clustering\n",
    "- K-Means Clustering in other cases\n",
    "- Participation Check 2\n",
    "- Applications: Image Compression\n",
    "- Mini Homework"
   ]
  },
  {
   "cell_type": "markdown",
   "metadata": {
    "collapsed": false,
    "jupyter": {
     "outputs_hidden": false
    }
   },
   "source": [
    "---"
   ]
  },
  {
   "cell_type": "markdown",
   "metadata": {
    "collapsed": false,
    "jupyter": {
     "outputs_hidden": false
    }
   },
   "source": [
    "# Run this first"
   ]
  },
  {
   "cell_type": "code",
   "execution_count": 5,
   "metadata": {
    "collapsed": false,
    "jupyter": {
     "outputs_hidden": false
    }
   },
   "outputs": [],
   "source": [
    "using Pkg\n",
    "\n",
    "Pkg.add(\"Clustering\")  # run this if you don't have Clustering\n",
    "\n",
    "using DataFrames\n",
    "using Clustering\n",
    "using Statistics\n",
    "using Random"
   ]
  },
  {
   "cell_type": "markdown",
   "metadata": {
    "collapsed": false,
    "jupyter": {
     "outputs_hidden": false
    }
   },
   "source": [
    "---"
   ]
  },
  {
   "cell_type": "markdown",
   "metadata": {
    "collapsed": false,
    "jupyter": {
     "outputs_hidden": false
    }
   },
   "source": [
    "# **Introduction to Clustering**"
   ]
  },
  {
   "cell_type": "markdown",
   "metadata": {
    "collapsed": false,
    "jupyter": {
     "outputs_hidden": false
    }
   },
   "source": [
    "Suppose you have data set that can be plotted on a straight line, an $xy$ graph, or even a heatmap."
   ]
  },
  {
   "cell_type": "markdown",
   "metadata": {
    "collapsed": false,
    "jupyter": {
     "outputs_hidden": false
    }
   },
   "source": [
    "<img src=\"images/intro.png\" style=\"max-width:100%\" />"
   ]
  },
  {
   "cell_type": "markdown",
   "metadata": {
    "collapsed": false,
    "jupyter": {
     "outputs_hidden": false
    }
   },
   "source": [
    "With these datasets, we want to put them into different groups.\n",
    "\n",
    "This is the motivation for clustering algorithms.\n",
    "\n",
    "**Clustering** is a Machine Learning technique, referring to grouping data points into different \"classes\" or categories using the help of a computer. It is used very frequently in data science and data cleaning.\n",
    "\n",
    "For the sample datasets in the picture above, we can simply do it with our own human eyes and calculation, but it can get very tedious when we have a large dataset, and often times it might not be exactly clear which group a certain datapoint should be categorized into.\n",
    "Instead, we should rely on the computer to do the hard work for us."
   ]
  },
  {
   "cell_type": "markdown",
   "metadata": {
    "collapsed": false,
    "jupyter": {
     "outputs_hidden": false
    }
   },
   "source": [
    "There are many different types of clustering algorithms in classification problems, such as Mean-Shift Clustering, Density-Based Spatial Clustering of Applications with Noise (DBSCAN), Hierarchical Clustering, (and even) K-Medians Clustering, etc..\n",
    "\n",
    "The one we will be focusing on is **K-Means Clustering**."
   ]
  },
  {
   "cell_type": "markdown",
   "metadata": {
    "collapsed": false,
    "jupyter": {
     "outputs_hidden": false
    }
   },
   "source": [
    "# **K-Means Clustering**"
   ]
  },
  {
   "cell_type": "markdown",
   "metadata": {
    "collapsed": false,
    "jupyter": {
     "outputs_hidden": false
    }
   },
   "source": [
    "**[K-Means Clustering](https://www.youtube.com/watch?v=4b5d3muPQmA&ab_channel=StatQuestwithJoshStarmer)** is a machine learning algorithm that takes points in a dataset and groups them into one of $K$ groups according to their distance to the mean values.\n",
    "\n",
    "Here's how the algorithm works:"
   ]
  },
  {
   "cell_type": "markdown",
   "metadata": {
    "collapsed": false,
    "jupyter": {
     "outputs_hidden": false
    }
   },
   "source": [
    "<img src=\"images/step1.png\" style=\"max-width:100%\" />"
   ]
  },
  {
   "cell_type": "markdown",
   "metadata": {
    "collapsed": false,
    "jupyter": {
     "outputs_hidden": false
    }
   },
   "source": [
    "<img src=\"images/step2.png\" style=\"max-width:100%\" />"
   ]
  },
  {
   "cell_type": "markdown",
   "metadata": {
    "collapsed": false,
    "jupyter": {
     "outputs_hidden": false
    }
   },
   "source": [
    "<img src=\"images/step3.png\" style=\"max-width:100%\" />"
   ]
  },
  {
   "cell_type": "markdown",
   "metadata": {
    "collapsed": false,
    "jupyter": {
     "outputs_hidden": false
    }
   },
   "source": [
    "<img src=\"images/step4.png\" style=\"max-width:100%\" />"
   ]
  },
  {
   "cell_type": "markdown",
   "metadata": {
    "collapsed": false,
    "jupyter": {
     "outputs_hidden": false
    }
   },
   "source": [
    "<img src=\"images/step5.png\" style=\"max-width:100%\" />"
   ]
  },
  {
   "cell_type": "markdown",
   "metadata": {
    "collapsed": false,
    "jupyter": {
     "outputs_hidden": false
    }
   },
   "source": [
    "<img src=\"images/step6.png\" style=\"max-width:100%\" />"
   ]
  },
  {
   "cell_type": "markdown",
   "metadata": {
    "collapsed": false,
    "jupyter": {
     "outputs_hidden": false
    }
   },
   "source": [
    "<img src=\"images/step7.png\" style=\"max-width:100%\" />"
   ]
  },
  {
   "cell_type": "markdown",
   "metadata": {
    "collapsed": false,
    "jupyter": {
     "outputs_hidden": false
    }
   },
   "source": [
    "<img src=\"images/step8_1.png\" style=\"max-width:100%\" />"
   ]
  },
  {
   "cell_type": "markdown",
   "metadata": {
    "collapsed": false,
    "jupyter": {
     "outputs_hidden": false
    }
   },
   "source": [
    "<img src=\"images/step8_2.png\" style=\"max-width:100%\" />"
   ]
  },
  {
   "cell_type": "markdown",
   "metadata": {
    "collapsed": false,
    "jupyter": {
     "outputs_hidden": false
    }
   },
   "source": [
    "---"
   ]
  },
  {
   "cell_type": "markdown",
   "metadata": {
    "collapsed": false,
    "jupyter": {
     "outputs_hidden": false
    }
   },
   "source": [
    "# **K-Means Clustering in Julia**"
   ]
  },
  {
   "cell_type": "markdown",
   "metadata": {
    "collapsed": false,
    "jupyter": {
     "outputs_hidden": false
    }
   },
   "source": [
    "There is actually a built-in [K-Means Clustering](https://github.com/JuliaStats/Clustering.jl) function in the JuliaStats library, and we will eventually use it, but for now we will implement K-Means Clustering ourselves (for the 1-Dimensional case)."
   ]
  },
  {
   "cell_type": "markdown",
   "metadata": {
    "collapsed": false,
    "jupyter": {
     "outputs_hidden": false
    }
   },
   "source": [
    "#### Pseudocode for K-Means Clustering:\n",
    "\n",
    "<img src=\"images/pseudocode.png\" style=\"max-width:100%\" />"
   ]
  },
  {
   "cell_type": "markdown",
   "metadata": {
    "collapsed": false,
    "jupyter": {
     "outputs_hidden": false
    }
   },
   "source": [
    "We will consider the following example data that can be represented on a straight line:\n",
    "$$[1, 2, 5, 7, 8, 11, 13, 14]$$\n",
    "\n",
    "Suppose we want to cluster this into 3 groups."
   ]
  },
  {
   "cell_type": "code",
   "execution_count": null,
   "metadata": {
    "collapsed": false,
    "jupyter": {
     "outputs_hidden": false
    }
   },
   "outputs": [],
   "source": [
    "example = [1, 2, 5, 7, 8, 11, 13, 14]\n",
    "\n",
    "K = 3;"
   ]
  },
  {
   "cell_type": "code",
   "execution_count": null,
   "metadata": {
    "collapsed": false,
    "jupyter": {
     "outputs_hidden": false
    }
   },
   "outputs": [],
   "source": [
    "# First, we want to randomly choose K center points\n",
    "\n",
    "function center_points(data, K)\n",
    "    if length(data) < K\n",
    "        K = length(data)\n",
    "    end\n",
    "\n",
    "    while true\n",
    "        output = data[rand(1:length(data), K)]\n",
    "        if length(unique(output)) == K\n",
    "            return sort(output)\n",
    "        end\n",
    "    end\n",
    "end"
   ]
  },
  {
   "cell_type": "code",
   "execution_count": null,
   "metadata": {
    "collapsed": false,
    "jupyter": {
     "outputs_hidden": false
    }
   },
   "outputs": [],
   "source": [
    "centers = center_points(example, K)"
   ]
  },
  {
   "cell_type": "code",
   "execution_count": null,
   "metadata": {
    "collapsed": false,
    "jupyter": {
     "outputs_hidden": false
    }
   },
   "outputs": [],
   "source": [
    "# We define the function distance to measure the distance between the datapoint and each center points\n",
    "\n",
    "function distance(x, centers)\n",
    "    output = zeros(length(centers))\n",
    "    for i = 1:length(output)\n",
    "        output[i] = abs(x - centers[i])\n",
    "    end\n",
    "    return output\n",
    "end"
   ]
  },
  {
   "cell_type": "code",
   "execution_count": null,
   "metadata": {
    "collapsed": false,
    "jupyter": {
     "outputs_hidden": false
    }
   },
   "outputs": [],
   "source": [
    "# Then, we'll cluster each datapoint according to their distance to the center points\n",
    "\n",
    "function clustering(data, centers)\n",
    "    K = length(centers)\n",
    "    output = []\n",
    "\n",
    "    # Initialize clusters\n",
    "    for i = 1:K\n",
    "        push!(output, [])\n",
    "    end\n",
    "\n",
    "    # cluster each datapoint based on miminum distance\n",
    "    for i = 1:length(data)\n",
    "        xi_dist = distance(data[i], centers)\n",
    "        idx = findfirst(xi_dist .== minimum(xi_dist))\n",
    "        push!(output[idx], data[i])\n",
    "        sort!(output[idx])\n",
    "    end\n",
    "\n",
    "    return output\n",
    "end"
   ]
  },
  {
   "cell_type": "code",
   "execution_count": null,
   "metadata": {
    "collapsed": false,
    "jupyter": {
     "outputs_hidden": false
    }
   },
   "outputs": [],
   "source": [
    "clusters = clustering(example, centers)"
   ]
  },
  {
   "cell_type": "code",
   "execution_count": null,
   "metadata": {
    "collapsed": false,
    "jupyter": {
     "outputs_hidden": false
    }
   },
   "outputs": [],
   "source": [
    "# Next, we'll calculate the mean of each clusters, which will become our new center points\n",
    "\n",
    "function clustermeans(clusters)\n",
    "    K = size(clusters, 1)\n",
    "    output = zeros(K)\n",
    "    for i = 1:K\n",
    "        output[i] = mean(clusters[i])\n",
    "    end\n",
    "    return output\n",
    "end"
   ]
  },
  {
   "cell_type": "code",
   "execution_count": null,
   "metadata": {
    "collapsed": false,
    "jupyter": {
     "outputs_hidden": false
    }
   },
   "outputs": [],
   "source": [
    "meanvals = clustermeans(clusters)"
   ]
  },
  {
   "cell_type": "code",
   "execution_count": null,
   "metadata": {
    "collapsed": false,
    "jupyter": {
     "outputs_hidden": false
    }
   },
   "outputs": [],
   "source": [
    "# We will repeat the process of clustering using the mean values until we reach stability\n",
    "\n",
    "prev = clusters\n",
    "centers = meanvals\n",
    "\n",
    "while true\n",
    "    output = clustering(example, centers)\n",
    "    if all(output .== prev)\n",
    "        return output\n",
    "    else\n",
    "        prev = output\n",
    "        centers = clustermeans(output)\n",
    "    end\n",
    "end\n",
    "\n",
    "output"
   ]
  },
  {
   "cell_type": "code",
   "execution_count": null,
   "metadata": {
    "collapsed": false,
    "jupyter": {
     "outputs_hidden": false
    }
   },
   "outputs": [],
   "source": [
    "# Let's put them all together into one function:\n",
    "\n",
    "function kmeanscluster(data, K)\n",
    "    # Randomly select center points c_1, ..., c_K\n",
    "    centers = center_points(data, K)\n",
    "\n",
    "\n",
    "    # For each datapoint, find the minimum distance and cluster\n",
    "    init_clusters = clustering(data, centers)\n",
    "\n",
    "\n",
    "    # Calculate the mean of each clusters\n",
    "    mean_vals = clustermeans(init_clusters)\n",
    "\n",
    "\n",
    "    # Repeat clustering process until stability is reached\n",
    "    prev = init_clusters\n",
    "    centers = mean_vals\n",
    "\n",
    "    while true\n",
    "        output = clustering(data, centers)\n",
    "        if all(output .== prev)\n",
    "            return output\n",
    "        else\n",
    "            prev = output\n",
    "            centers = clustermeans(output)\n",
    "        end\n",
    "    end\n",
    "end\n",
    "\n",
    "# NOTE: This function is written for only the 1-dimensional case"
   ]
  },
  {
   "cell_type": "code",
   "execution_count": null,
   "metadata": {
    "collapsed": false,
    "jupyter": {
     "outputs_hidden": false
    }
   },
   "outputs": [],
   "source": [
    "kmeanscluster(example, 3)"
   ]
  },
  {
   "cell_type": "code",
   "execution_count": null,
   "metadata": {
    "collapsed": false,
    "jupyter": {
     "outputs_hidden": false
    }
   },
   "outputs": [],
   "source": [
    "# Let's try for K = 4 on the same dataset\n",
    "\n",
    "kmeanscluster(example, 4)"
   ]
  },
  {
   "cell_type": "code",
   "execution_count": null,
   "metadata": {
    "collapsed": false,
    "jupyter": {
     "outputs_hidden": false
    }
   },
   "outputs": [],
   "source": [
    "# Using the built-in K-Means Clustering Function\n",
    "\n",
    "example = [1 2 5 7 8 11 13 14]\n",
    "\n",
    "result = kmeans(example, K)\n",
    "\n",
    "@show a = assignments(result);   # get the assignment of points to clusters\n",
    "@show c = counts(result);        # get the cluster sizes\n",
    "@show centers = result.centers;  # get the cluster centers"
   ]
  },
  {
   "cell_type": "code",
   "execution_count": null,
   "metadata": {
    "collapsed": false,
    "jupyter": {
     "outputs_hidden": false
    }
   },
   "outputs": [],
   "source": []
  },
  {
   "cell_type": "markdown",
   "metadata": {
    "collapsed": false,
    "jupyter": {
     "outputs_hidden": false
    }
   },
   "source": [
    "---\n",
    "# **Participation Check**"
   ]
  },
  {
   "cell_type": "markdown",
   "metadata": {
    "collapsed": false,
    "jupyter": {
     "outputs_hidden": false
    }
   },
   "source": [
    "### Question 1:\n",
    "\n",
    "**True/False**: The $K$ in K-Means Clustering represents the number of groups that we want to cluster the data into."
   ]
  },
  {
   "cell_type": "code",
   "execution_count": null,
   "metadata": {
    "collapsed": false,
    "jupyter": {
     "outputs_hidden": false
    }
   },
   "outputs": [],
   "source": [
    "q1 = \"\""
   ]
  },
  {
   "cell_type": "code",
   "execution_count": null,
   "metadata": {
    "collapsed": false,
    "jupyter": {
     "outputs_hidden": false
    }
   },
   "outputs": [],
   "source": []
  },
  {
   "cell_type": "markdown",
   "metadata": {
    "collapsed": false,
    "jupyter": {
     "outputs_hidden": false
    }
   },
   "source": [
    "### Question 2:\n",
    "\n",
    "**True/False**: After the initial clustering by using center points, you should then calculate the standard deviation of each clusters and cluster according to the nearest standard deviation."
   ]
  },
  {
   "cell_type": "code",
   "execution_count": null,
   "metadata": {
    "collapsed": false,
    "jupyter": {
     "outputs_hidden": false
    }
   },
   "outputs": [],
   "source": [
    "q2 = \"\""
   ]
  },
  {
   "cell_type": "code",
   "execution_count": null,
   "metadata": {
    "collapsed": false,
    "jupyter": {
     "outputs_hidden": false
    }
   },
   "outputs": [],
   "source": []
  },
  {
   "cell_type": "markdown",
   "metadata": {
    "collapsed": false,
    "jupyter": {
     "outputs_hidden": false
    }
   },
   "source": [
    "### Question 3:\n",
    "\n",
    "Suppose we have the following data set: and we want to cluster it into 3 groups.\n",
    "\n",
    "What groups should the K-Means Clustering Algorithm ideally return?\n",
    "\n",
    "<img src=\"images/participation1.png\" style=\"max-width:100%\" />"
   ]
  },
  {
   "cell_type": "code",
   "execution_count": null,
   "metadata": {
    "collapsed": false,
    "jupyter": {
     "outputs_hidden": false
    }
   },
   "outputs": [],
   "source": [
    "group1 = \"[]\"\n",
    "group2 = \"[]\"\n",
    "group3 = \"[]\""
   ]
  },
  {
   "cell_type": "code",
   "execution_count": null,
   "metadata": {
    "collapsed": false,
    "jupyter": {
     "outputs_hidden": false
    }
   },
   "outputs": [],
   "source": []
  },
  {
   "cell_type": "markdown",
   "metadata": {
    "collapsed": false,
    "jupyter": {
     "outputs_hidden": false
    }
   },
   "source": [
    "---"
   ]
  },
  {
   "cell_type": "markdown",
   "metadata": {
    "collapsed": false,
    "jupyter": {
     "outputs_hidden": false
    }
   },
   "source": [
    "# **Measuring the Success of K-Means Clustering**"
   ]
  },
  {
   "cell_type": "markdown",
   "metadata": {
    "collapsed": false,
    "jupyter": {
     "outputs_hidden": false
    }
   },
   "source": [
    "In our demo with the straight line, we've gotten \"lucky\" with getting the correct clusters. \n",
    "\n",
    "However, this won't always be the case; the output clusters can vary depending on what $K$ center points the computer randomly selects."
   ]
  },
  {
   "cell_type": "markdown",
   "metadata": {
    "collapsed": false,
    "jupyter": {
     "outputs_hidden": false
    }
   },
   "source": [
    "For example, suppose for this dataset the algorithm randomly selected these points to be our centroids:"
   ]
  },
  {
   "cell_type": "markdown",
   "metadata": {
    "collapsed": false,
    "jupyter": {
     "outputs_hidden": false
    }
   },
   "source": [
    "<img src=\"images/success1.png\" style=\"max-width:100%\" />"
   ]
  },
  {
   "cell_type": "markdown",
   "metadata": {
    "collapsed": false,
    "jupyter": {
     "outputs_hidden": false
    }
   },
   "source": [
    "If we run the algorithm, we would get this as our output:\n",
    "\n",
    "<img src=\"images/success2.png\" style=\"max-width:100%\" />\n",
    "\n",
    "Is this \"correct\"?"
   ]
  },
  {
   "cell_type": "markdown",
   "metadata": {
    "collapsed": false,
    "jupyter": {
     "outputs_hidden": false
    }
   },
   "source": [
    "Turns out, K-Means Clustering can't \"see\" the best clustering for a given value of $K$.\n",
    "\n",
    "Its only option is to keep track of these clusters for different starting center points.\n"
   ]
  },
  {
   "cell_type": "markdown",
   "metadata": {
    "collapsed": false,
    "jupyter": {
     "outputs_hidden": false
    }
   },
   "source": [
    "The way we can measure the success of K-Means Clustering is to use variance to measure the \"goodness\" of a particular cluster.\n",
    "\n",
    "Recap: **Variance** is basically a measure of how far each datapoints are from the mean value. A small variance means the datapoints are closer to the mean value, while a large variance means the points are far apart."
   ]
  },
  {
   "cell_type": "markdown",
   "metadata": {
    "collapsed": false,
    "jupyter": {
     "outputs_hidden": false
    }
   },
   "source": [
    "$$\\text{Variance} = \\frac{1}{n} \\sum_{i=1}^{n} || a_i - \\mu||^2 $$\n",
    "\n",
    "- $\\mu$ = mean value\n",
    "- n = number of datapoints"
   ]
  },
  {
   "cell_type": "markdown",
   "metadata": {
    "collapsed": false,
    "jupyter": {
     "outputs_hidden": false
    }
   },
   "source": [
    "We then measure the \"score\" of a particular clustering by calculating the **Within-Cluster Sum of Squares** (WCSS):\n",
    "\n",
    "$$\n",
    "\\text{score(Clustering)} = \\sum_{\\text{clusters}} \\text{Variance(cluster)}\n",
    "$$\n",
    "\n",
    "We want the WCSS for a particular cluster (or particular value of K) to be small."
   ]
  },
  {
   "cell_type": "code",
   "execution_count": null,
   "metadata": {
    "collapsed": false,
    "jupyter": {
     "outputs_hidden": false
    }
   },
   "outputs": [],
   "source": [
    "function score(data, K)\n",
    "    result = kmeans(data, K)\n",
    "\n",
    "    a = assignments(result)\n",
    "    centers = result.centers;\n",
    "\n",
    "    var_values = zeros(K);  # this will store our variance values\n",
    "    for i = 1:K\n",
    "        temp = data[a .== i]\n",
    "        var_values[i] = var(temp)\n",
    "    end\n",
    "\n",
    "    return sum(var_values)\n",
    "end"
   ]
  },
  {
   "cell_type": "code",
   "execution_count": null,
   "metadata": {
    "collapsed": false,
    "jupyter": {
     "outputs_hidden": false
    }
   },
   "outputs": [],
   "source": [
    "example = [1 2 5 7 8 11 13 14]\n",
    "\n",
    "@show score(example, 1);  # Note that K=1 is considered the worst case scenario\n",
    "@show score(example, 2);\n",
    "@show score(example, 3);\n",
    "@show score(example, 4);"
   ]
  },
  {
   "cell_type": "code",
   "execution_count": null,
   "metadata": {
    "collapsed": false,
    "jupyter": {
     "outputs_hidden": false
    }
   },
   "outputs": [],
   "source": [
    "# Let's do another example dataset\n",
    "\n",
    "example = [1 2 3 6 7 8 15 16 17]\n",
    "\n",
    "\n",
    "@show score(example, 1);\n",
    "@show score(example, 2);\n",
    "@show score(example, 3);\n",
    "@show score(example, 4);\n",
    "@show score(example, 5);"
   ]
  },
  {
   "cell_type": "code",
   "execution_count": null,
   "metadata": {
    "collapsed": false,
    "jupyter": {
     "outputs_hidden": false
    }
   },
   "outputs": [],
   "source": []
  },
  {
   "cell_type": "markdown",
   "metadata": {
    "collapsed": false,
    "jupyter": {
     "outputs_hidden": false
    }
   },
   "source": [
    "---\n",
    "# **K-Means Clustering for other cases**"
   ]
  },
  {
   "cell_type": "markdown",
   "metadata": {
    "collapsed": false,
    "jupyter": {
     "outputs_hidden": false
    }
   },
   "source": [
    "### 2D-Graph"
   ]
  },
  {
   "cell_type": "markdown",
   "metadata": {
    "collapsed": false,
    "jupyter": {
     "outputs_hidden": false
    }
   },
   "source": [
    "Suppose you have a data that is represented on a 2D graph, or an $xy$-graph.\n",
    "\n"
   ]
  },
  {
   "cell_type": "markdown",
   "metadata": {
    "collapsed": false,
    "jupyter": {
     "outputs_hidden": false
    }
   },
   "source": [
    "Just like we did in the straight-line case, we identify $K$, and then randomly select $K$ center points."
   ]
  },
  {
   "cell_type": "markdown",
   "metadata": {
    "collapsed": false,
    "jupyter": {
     "outputs_hidden": false
    }
   },
   "source": [
    "The difference is that for computing the distance, we use the **Euclidean Distance** (or Pythagorean's Theorem) to compute the distance for each points from the center points.\n",
    "\n",
    "$$\n",
    " distance = \\sqrt{(x_2 - x_1)^2 + (y_2 - y_1)^2}\n",
    "$$"
   ]
  },
  {
   "cell_type": "markdown",
   "metadata": {
    "collapsed": false,
    "jupyter": {
     "outputs_hidden": false
    }
   },
   "source": [
    "To compute the mean point of a cluster, sum all the $x$ and the $y$ values separately, then divide both of them by the total number of points in that cluster.\n",
    "$$\n",
    "(\\frac{x_1 + ... + x_n}{n}, \\frac{y_1 + ... + y_n}{n})\n",
    "$$"
   ]
  },
  {
   "cell_type": "markdown",
   "metadata": {
    "collapsed": false,
    "jupyter": {
     "outputs_hidden": false
    }
   },
   "source": [
    "<img src=\"images/2d_demo.gif\" style=\"max-width:100%\" />"
   ]
  },
  {
   "cell_type": "markdown",
   "metadata": {
    "collapsed": false,
    "jupyter": {
     "outputs_hidden": false
    }
   },
   "source": [
    "Example with a 2D graph:\n",
    "\n",
    "[Wikipedia](https://en.wikipedia.org/wiki/File:K-means_convergence.gif)"
   ]
  },
  {
   "cell_type": "code",
   "execution_count": null,
   "metadata": {
    "collapsed": false,
    "jupyter": {
     "outputs_hidden": false
    }
   },
   "outputs": [],
   "source": []
  },
  {
   "cell_type": "markdown",
   "metadata": {
    "collapsed": false,
    "jupyter": {
     "outputs_hidden": false
    }
   },
   "source": [
    "### Heatmap"
   ]
  },
  {
   "cell_type": "markdown",
   "metadata": {
    "collapsed": false,
    "jupyter": {
     "outputs_hidden": false
    }
   },
   "source": [
    "Suppose you have data represented on a heat map:"
   ]
  },
  {
   "cell_type": "markdown",
   "metadata": {
    "collapsed": false,
    "jupyter": {
     "outputs_hidden": false
    }
   },
   "source": [
    "<img src=\"images/heatmap.png\" style=\"max-width:100%\" />"
   ]
  },
  {
   "cell_type": "markdown",
   "metadata": {
    "collapsed": false,
    "jupyter": {
     "outputs_hidden": false
    }
   },
   "source": [
    "We can treat the columns as variables $x$ and $y$. Then we can plot the points onto a 2D graph and do the algorithm as we normally would for a 2D graph.\n",
    "\n",
    "<img src=\"images/heatmap_demo.png\" style=\"max-width:100%\" />"
   ]
  },
  {
   "cell_type": "markdown",
   "metadata": {
    "collapsed": false,
    "jupyter": {
     "outputs_hidden": false
    }
   },
   "source": [
    "Similarly, we can treat a heatmap with $n$ columns the same as an $n$-dimensional graph when we run K-Means Clustering.\n",
    "\n",
    "Note that we don't actually need to plot our data points in order to cluster it; we just need to calculate the distances.\n",
    "\n",
    "In general, if a heatmap has $n$ samples or axes, then the Euclidean distance is:\n",
    "\n",
    "$$\n",
    " distance = \\sqrt{x_1^2 + x_2^2 + ... + x_n^2}\n",
    "$$"
   ]
  },
  {
   "cell_type": "code",
   "execution_count": null,
   "metadata": {
    "collapsed": false,
    "jupyter": {
     "outputs_hidden": false
    }
   },
   "outputs": [],
   "source": []
  },
  {
   "cell_type": "markdown",
   "metadata": {
    "collapsed": false,
    "jupyter": {
     "outputs_hidden": false
    }
   },
   "source": [
    "---"
   ]
  },
  {
   "cell_type": "markdown",
   "metadata": {
    "collapsed": false,
    "jupyter": {
     "outputs_hidden": false
    }
   },
   "source": [
    "# **Participation Check 2**\n",
    "\n"
   ]
  },
  {
   "cell_type": "markdown",
   "metadata": {
    "collapsed": false,
    "jupyter": {
     "outputs_hidden": false
    }
   },
   "source": [
    "### Question 1:\n",
    "\n",
    "**Multiple Choice**: Given the following heatmap, which of the following 2D plots best represents the datapoints?\n",
    "\n",
    "<img src=\"images/participation2_1.png\" style=\"max-width:100%\" />\n",
    "\n",
    "<img src=\"images/participation2_2.png\" style=\"max-width:100%\" />"
   ]
  },
  {
   "cell_type": "code",
   "execution_count": null,
   "metadata": {
    "collapsed": false,
    "jupyter": {
     "outputs_hidden": false
    }
   },
   "outputs": [],
   "source": [
    "q1 = \"\"  # Type your answer in the quotation marks"
   ]
  },
  {
   "cell_type": "code",
   "execution_count": null,
   "metadata": {
    "collapsed": false,
    "jupyter": {
     "outputs_hidden": false
    }
   },
   "outputs": [],
   "source": []
  },
  {
   "cell_type": "markdown",
   "metadata": {
    "collapsed": false,
    "jupyter": {
     "outputs_hidden": false
    }
   },
   "source": [
    "### Question 2:\n",
    "\n",
    "If we were to run K-Means Algorithm on this heatmap, what should our value of $K$ be?"
   ]
  },
  {
   "cell_type": "code",
   "execution_count": null,
   "metadata": {
    "collapsed": false,
    "jupyter": {
     "outputs_hidden": false
    }
   },
   "outputs": [],
   "source": [
    "q2 = \"\"  # Type your answer in the quotation marks"
   ]
  },
  {
   "cell_type": "code",
   "execution_count": null,
   "metadata": {
    "collapsed": false,
    "jupyter": {
     "outputs_hidden": false
    }
   },
   "outputs": [],
   "source": []
  },
  {
   "cell_type": "markdown",
   "metadata": {
    "collapsed": false,
    "jupyter": {
     "outputs_hidden": false
    }
   },
   "source": [
    "### Question 3:\n",
    "\n",
    "**True/False**: K-Means Clustering will always guarantee the \"correct\" clusters, regardless of what center points are selected."
   ]
  },
  {
   "cell_type": "code",
   "execution_count": null,
   "metadata": {
    "collapsed": false,
    "jupyter": {
     "outputs_hidden": false
    }
   },
   "outputs": [],
   "source": [
    "q3 = \"\"  # Type your answer in the quotation marks"
   ]
  },
  {
   "cell_type": "code",
   "execution_count": null,
   "metadata": {
    "collapsed": false,
    "jupyter": {
     "outputs_hidden": false
    }
   },
   "outputs": [],
   "source": []
  },
  {
   "cell_type": "markdown",
   "metadata": {
    "collapsed": false,
    "jupyter": {
     "outputs_hidden": false
    }
   },
   "source": [
    "---\n",
    "# **Applications: Image Compression**"
   ]
  },
  {
   "cell_type": "markdown",
   "metadata": {
    "collapsed": false,
    "jupyter": {
     "outputs_hidden": false
    }
   },
   "source": [
    "Other than making your data look cleaner and more organized, K-Means clustering has many applications.\n",
    "\n",
    "One of them is **[image compression](https://www.geeksforgeeks.org/image-compression-using-k-means-clustering/)**."
   ]
  },
  {
   "cell_type": "markdown",
   "metadata": {
    "collapsed": false,
    "jupyter": {
     "outputs_hidden": false
    }
   },
   "source": [
    "There are so many images on the internet, that it became necessary to develop a method to compress images into a smaller size file without compromising the image quality to an unacceptable level. This allows more images to be stored into a hard drive, file, etc., as well as reducing the amount of time required to send an image (via email or on the Internet etc..).\n",
    "\n",
    "Images are represented using pixels, which are composed of Red, Green, Blue values (RGB), each of which ranges from 0-255 to indicate the \"amount\" of red, green, blue respectively.\n",
    "\n",
    "K-Means Clustering takes advantage of the fact that different combinations of RGB values looks the same to the human eye. \n",
    "\n",
    "For example, an RGB value of $(32, 171, 69)$ looks very similar to $(30, 170, 65)$ to the human eye."
   ]
  },
  {
   "cell_type": "markdown",
   "metadata": {
    "collapsed": false,
    "jupyter": {
     "outputs_hidden": false
    }
   },
   "source": [
    "<img src=\"images/color.png\" style=\"max-width:100%\" />"
   ]
  },
  {
   "cell_type": "markdown",
   "metadata": {
    "collapsed": false,
    "jupyter": {
     "outputs_hidden": false
    }
   },
   "source": [
    "Since the human eye cannot perceive the difference between RGB values that are very close or similar to each other, it is a good idea to group them instead.\n",
    "\n",
    "The way this works is to use K-Means Clustering to group all the colors in an image into $K$ groups of similar colors (for example, $K = 64$). The center points will be representative of groups of similar colors. Then we will replace every pixels with their respective center points in the final output image.\n",
    "\n",
    "For example, for our above RGB values $(32, 171, 69)$ and $(30, 170, 65)$: if we run the algorithm and their group's center value happens to be something like $(31, 170, 67)$, then all of the pixels containing these original values will be replaced by $(31, 170, 67)$ in the output image.\n",
    "\n",
    "Thus, the total color combination using only $K$ colors will be significantly less than the total color combinations of RGB values (which is $256^3$, or $16, 777, 216$), which allows us to save significant amount of space and store more images in a file, hard drive, etc.."
   ]
  },
  {
   "cell_type": "code",
   "execution_count": null,
   "metadata": {
    "collapsed": false,
    "jupyter": {
     "outputs_hidden": false
    }
   },
   "outputs": [],
   "source": []
  },
  {
   "cell_type": "markdown",
   "metadata": {
    "collapsed": false,
    "jupyter": {
     "outputs_hidden": false
    }
   },
   "source": [
    "---"
   ]
  },
  {
   "cell_type": "markdown",
   "metadata": {
    "collapsed": false,
    "jupyter": {
     "outputs_hidden": false
    }
   },
   "source": [
    "# **Mini Homework**"
   ]
  },
  {
   "cell_type": "markdown",
   "metadata": {
    "collapsed": false,
    "jupyter": {
     "outputs_hidden": false
    }
   },
   "source": [
    "## Problem 1: Fun with built-in K-Means Clustering"
   ]
  },
  {
   "cell_type": "markdown",
   "metadata": {
    "collapsed": false,
    "jupyter": {
     "outputs_hidden": false
    }
   },
   "source": [
    "Using the built-in functions, write a function `greatest_center` which takes in as input a dataset (you may assume it is a 1-Dimensional dataset) and a value $K$, and outputs the highest value among the center points."
   ]
  },
  {
   "cell_type": "code",
   "execution_count": null,
   "metadata": {
    "collapsed": false,
    "jupyter": {
     "outputs_hidden": false
    }
   },
   "outputs": [],
   "source": [
    "function greatest_center(data, K)\n",
    "    # YOUR SOLUTION HERE\n",
    "end"
   ]
  },
  {
   "cell_type": "code",
   "execution_count": null,
   "metadata": {
    "collapsed": false,
    "jupyter": {
     "outputs_hidden": false
    }
   },
   "outputs": [],
   "source": []
  },
  {
   "cell_type": "markdown",
   "metadata": {
    "collapsed": false,
    "jupyter": {
     "outputs_hidden": false
    }
   },
   "source": [
    "Similarly, write a function `least_center`, which takes in as input a (1D) dataset and a value $K$, and outputs the smallest center value."
   ]
  },
  {
   "cell_type": "code",
   "execution_count": null,
   "metadata": {
    "collapsed": false,
    "jupyter": {
     "outputs_hidden": false
    }
   },
   "outputs": [],
   "source": [
    "function least_center(data, K)\n",
    "    # YOUR SOLUTION HERE\n",
    "end"
   ]
  },
  {
   "cell_type": "code",
   "execution_count": null,
   "metadata": {
    "collapsed": false,
    "jupyter": {
     "outputs_hidden": false
    }
   },
   "outputs": [],
   "source": []
  },
  {
   "cell_type": "markdown",
   "metadata": {
    "collapsed": false,
    "jupyter": {
     "outputs_hidden": false
    }
   },
   "source": [
    "Write a function `centermean`, which takes in as input a dataset and a value $K$, and outputs the mean of the center values."
   ]
  },
  {
   "cell_type": "code",
   "execution_count": null,
   "metadata": {
    "collapsed": false,
    "jupyter": {
     "outputs_hidden": false
    }
   },
   "outputs": [],
   "source": [
    "function centermean(data, K)\n",
    "    # YOUR SOLUTION HERE\n",
    "end"
   ]
  },
  {
   "cell_type": "code",
   "execution_count": null,
   "metadata": {
    "collapsed": false,
    "jupyter": {
     "outputs_hidden": false
    }
   },
   "outputs": [],
   "source": []
  },
  {
   "cell_type": "markdown",
   "metadata": {
    "collapsed": false,
    "jupyter": {
     "outputs_hidden": false
    }
   },
   "source": [
    "## Problem 2: Implementing for a 2D case"
   ]
  },
  {
   "cell_type": "markdown",
   "metadata": {
    "collapsed": false,
    "jupyter": {
     "outputs_hidden": false
    }
   },
   "source": [
    "In the following exercise, you will implement K-Means Clustering from scratch like we did in lecture, but for a 2D case. You may not use the built-in K-Means Clustering library and functions."
   ]
  },
  {
   "cell_type": "markdown",
   "metadata": {
    "collapsed": false,
    "jupyter": {
     "outputs_hidden": false
    }
   },
   "source": [
    "Write a function `centerpoints` with takes in as input a 2D dataset (a vector of vectors containing 2 elements) and a value of $K$ and returns $K$ randomly selected center points. The center points must be unique.\n",
    "You may use the shuffle function."
   ]
  },
  {
   "cell_type": "code",
   "execution_count": null,
   "metadata": {
    "collapsed": false,
    "jupyter": {
     "outputs_hidden": false
    }
   },
   "outputs": [],
   "source": [
    "function centerpoints(data, K)\n",
    "    # YOUR SOLUTION HERE\n",
    "end"
   ]
  },
  {
   "cell_type": "code",
   "execution_count": null,
   "metadata": {
    "collapsed": false,
    "jupyter": {
     "outputs_hidden": false
    }
   },
   "outputs": [],
   "source": []
  },
  {
   "cell_type": "markdown",
   "metadata": {
    "collapsed": false,
    "jupyter": {
     "outputs_hidden": false
    }
   },
   "source": [
    "Write a function `Euclidean_distance`, which takes in as input a datapoint with two elements and 2D array of center points, and outputs the Euclidean distance from the datapoint to each of the center points. You may assume that all of the entries in centers and the datapoint have two elements."
   ]
  },
  {
   "cell_type": "code",
   "execution_count": null,
   "metadata": {
    "collapsed": false,
    "jupyter": {
     "outputs_hidden": false
    }
   },
   "outputs": [],
   "source": [
    "function Euclidean_distance(point, centers)\n",
    "    # YOUR SOLUTION HERE\n",
    "end"
   ]
  },
  {
   "cell_type": "code",
   "execution_count": null,
   "metadata": {
    "collapsed": false,
    "jupyter": {
     "outputs_hidden": false
    }
   },
   "outputs": [],
   "source": []
  },
  {
   "cell_type": "markdown",
   "metadata": {
    "collapsed": false,
    "jupyter": {
     "outputs_hidden": false
    }
   },
   "source": [
    "Write a function `clustering`, which takes as input a 2D dataset and a vector containing $K$ center points, and clusters the data into $K$ groups depending on the Euclidean distance to the nearest center point."
   ]
  },
  {
   "cell_type": "code",
   "execution_count": null,
   "metadata": {
    "collapsed": false,
    "jupyter": {
     "outputs_hidden": false
    }
   },
   "outputs": [],
   "source": [
    "function clustering(data, centers)\n",
    "    # YOUR SOLUTION HERE\n",
    "end"
   ]
  },
  {
   "cell_type": "code",
   "execution_count": null,
   "metadata": {
    "collapsed": false,
    "jupyter": {
     "outputs_hidden": false
    }
   },
   "outputs": [],
   "source": []
  },
  {
   "cell_type": "markdown",
   "metadata": {
    "collapsed": false,
    "jupyter": {
     "outputs_hidden": false
    }
   },
   "source": [
    "Write a function clustermeans, which takes as input the clusters obtained from clustering, and outputs a vector containing the mean of each clusters.\n",
    "\n",
    "Hint: use the built in mean function."
   ]
  },
  {
   "cell_type": "code",
   "execution_count": null,
   "metadata": {
    "collapsed": false,
    "jupyter": {
     "outputs_hidden": false
    }
   },
   "outputs": [],
   "source": [
    "function clustermeans(clusters)\n",
    "    # YOUR SOLUTION HERE\n",
    "end"
   ]
  },
  {
   "cell_type": "code",
   "execution_count": null,
   "metadata": {
    "collapsed": false,
    "jupyter": {
     "outputs_hidden": false
    }
   },
   "outputs": [],
   "source": []
  },
  {
   "cell_type": "markdown",
   "metadata": {
    "collapsed": false,
    "jupyter": {
     "outputs_hidden": false
    }
   },
   "source": [
    "Using the previous functions, implement a function `kmeans2D`, which takes as input a 2D dataset and the $K$ value, and outputs a vector containing the clusters."
   ]
  },
  {
   "cell_type": "code",
   "execution_count": null,
   "metadata": {
    "collapsed": false,
    "jupyter": {
     "outputs_hidden": false
    }
   },
   "outputs": [],
   "source": [
    "function kmeans2D(data, K)\n",
    "    # YOUR SOLUTION HERE\n",
    "end"
   ]
  },
  {
   "cell_type": "code",
   "execution_count": null,
   "metadata": {
    "collapsed": false,
    "jupyter": {
     "outputs_hidden": false
    }
   },
   "outputs": [],
   "source": []
  },
  {
   "cell_type": "markdown",
   "metadata": {
    "collapsed": false,
    "jupyter": {
     "outputs_hidden": false
    }
   },
   "source": [
    "## Solutions"
   ]
  },
  {
   "cell_type": "markdown",
   "metadata": {
    "collapsed": false,
    "jupyter": {
     "outputs_hidden": false
    }
   },
   "source": [
    "### Problem 1"
   ]
  },
  {
   "cell_type": "code",
   "execution_count": null,
   "metadata": {
    "collapsed": false,
    "jupyter": {
     "outputs_hidden": false
    }
   },
   "outputs": [],
   "source": [
    "function greatest_center(data, K)\n",
    "    result = kmeans(data, K)\n",
    "    return maximum(result.centers)\n",
    "end"
   ]
  },
  {
   "cell_type": "code",
   "execution_count": null,
   "metadata": {
    "collapsed": false,
    "jupyter": {
     "outputs_hidden": false
    }
   },
   "outputs": [],
   "source": [
    "function least_center(data, K)\n",
    "    result = kmeans(data, K)\n",
    "    return minimum(result.centers)\n",
    "end"
   ]
  },
  {
   "cell_type": "code",
   "execution_count": null,
   "metadata": {
    "collapsed": false,
    "jupyter": {
     "outputs_hidden": false
    }
   },
   "outputs": [],
   "source": [
    "function centermean(data, K)\n",
    "    result = kmeans(data, K)\n",
    "    return mean(result.centers)\n",
    "end"
   ]
  },
  {
   "cell_type": "code",
   "execution_count": null,
   "metadata": {
    "collapsed": false,
    "jupyter": {
     "outputs_hidden": false
    }
   },
   "outputs": [],
   "source": []
  },
  {
   "cell_type": "markdown",
   "metadata": {
    "collapsed": false,
    "jupyter": {
     "outputs_hidden": false
    }
   },
   "source": [
    "### Problem 2"
   ]
  },
  {
   "cell_type": "code",
   "execution_count": null,
   "metadata": {
    "collapsed": false,
    "jupyter": {
     "outputs_hidden": false
    }
   },
   "outputs": [],
   "source": [
    "function centerpoints(data, K)\n",
    "    return shuffle(data)[1:K]\n",
    "end\n",
    "\n",
    "\n",
    "function Euclidean_distance(point, centers)\n",
    "    output = zeros(length(centers))\n",
    "    for i = 1:length(output)\n",
    "        output[i] = sqrt((point[1]-centers[i][1])^2 + (point[2]-centers[i][2])^2)\n",
    "    end\n",
    "    return output\n",
    "end\n",
    "\n",
    "\n",
    "function cluster(data, centers)\n",
    "    K = length(centers)\n",
    "    output = []\n",
    "\n",
    "    for i = 1:K\n",
    "        push!(output, [])\n",
    "    end\n",
    "\n",
    "    for i = 1:length(data)\n",
    "        dist = Euclidean_distance(data[i], centers)\n",
    "        idx = findfirst(dist .== minimum(dist))\n",
    "        push!(output[idx], data[i])\n",
    "        sort!(output[idx])\n",
    "    end\n",
    "\n",
    "    return output\n",
    "end\n",
    "\n",
    "\n",
    "function clustermeans(clusters)\n",
    "    K = length(clusters)\n",
    "    output = []\n",
    "    for i = 1:K\n",
    "        push!(output, mean(clusters[i]))\n",
    "    end\n",
    "    return output\n",
    "end\n",
    "\n",
    "\n",
    "function kmeans2D(data, K)\n",
    "    centers = centerpoints(data, K)\n",
    "\n",
    "    init_clusters = cluster(data, centers)\n",
    "\n",
    "    mean_vals = clustermeans(init_clusters)\n",
    "\n",
    "    prev = init_clusters\n",
    "    centers = mean_vals\n",
    "\n",
    "    while true\n",
    "        output = cluster(data, centers)\n",
    "        if all(output .== prev)\n",
    "            return output\n",
    "        else\n",
    "            prev = output\n",
    "            centers = clustermeans(output)\n",
    "        end\n",
    "    end\n",
    "end"
   ]
  },
  {
   "cell_type": "code",
   "execution_count": null,
   "metadata": {
    "collapsed": false,
    "jupyter": {
     "outputs_hidden": false
    }
   },
   "outputs": [],
   "source": []
  }
 ],
 "metadata": {
  "kernelspec": {
   "display_name": "Python 3 (ipykernel)",
   "language": "python",
   "name": "python3"
  },
  "language_info": {
   "codemirror_mode": {
    "name": "ipython",
    "version": 3
   },
   "file_extension": ".py",
   "mimetype": "text/x-python",
   "name": "python",
   "nbconvert_exporter": "python",
   "pygments_lexer": "ipython3",
   "version": "3.12.4"
  }
 },
 "nbformat": 4,
 "nbformat_minor": 4
}
